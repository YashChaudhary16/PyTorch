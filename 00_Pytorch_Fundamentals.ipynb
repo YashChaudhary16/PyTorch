{
  "nbformat": 4,
  "nbformat_minor": 0,
  "metadata": {
    "colab": {
      "provenance": [],
      "gpuType": "T4",
      "authorship_tag": "ABX9TyOMTgFFmuFlwOfvno3sIbzH",
      "include_colab_link": true
    },
    "kernelspec": {
      "name": "python3",
      "display_name": "Python 3"
    },
    "language_info": {
      "name": "python"
    },
    "accelerator": "GPU"
  },
  "cells": [
    {
      "cell_type": "markdown",
      "metadata": {
        "id": "view-in-github",
        "colab_type": "text"
      },
      "source": [
        "<a href=\"https://colab.research.google.com/github/YashChaudhary16/PyTorch/blob/main/00_Pytorch_Fundamentals.ipynb\" target=\"_parent\"><img src=\"https://colab.research.google.com/assets/colab-badge.svg\" alt=\"Open In Colab\"/></a>"
      ]
    },
    {
      "cell_type": "code",
      "source": [
        "import torch\n",
        "import numpy as np\n",
        "import pandas as pd\n",
        "import matplotlib.pyplot as plt"
      ],
      "metadata": {
        "id": "LlH-L4BgTIkG"
      },
      "execution_count": 1,
      "outputs": []
    },
    {
      "cell_type": "markdown",
      "source": [
        "# Creating Tensors"
      ],
      "metadata": {
        "id": "HzCdnLovVQ0I"
      }
    },
    {
      "cell_type": "markdown",
      "source": [
        "## Scalar"
      ],
      "metadata": {
        "id": "2dXD_JP0ZMXt"
      }
    },
    {
      "cell_type": "code",
      "source": [
        "scalar = torch.tensor(1682)\n",
        "scalar"
      ],
      "metadata": {
        "colab": {
          "base_uri": "https://localhost:8080/"
        },
        "id": "2Q78tLEjVGm-",
        "outputId": "a2a628fb-682f-4e8b-8fec-d3ba57ea6c57"
      },
      "execution_count": 2,
      "outputs": [
        {
          "output_type": "execute_result",
          "data": {
            "text/plain": [
              "tensor(1682)"
            ]
          },
          "metadata": {},
          "execution_count": 2
        }
      ]
    },
    {
      "cell_type": "code",
      "source": [
        "#scalar has no dimension\n",
        "scalar.ndim"
      ],
      "metadata": {
        "colab": {
          "base_uri": "https://localhost:8080/"
        },
        "id": "uaJFJIEDVhNu",
        "outputId": "71cb320c-4711-4d93-e856-ba9471866fdd"
      },
      "execution_count": 3,
      "outputs": [
        {
          "output_type": "execute_result",
          "data": {
            "text/plain": [
              "0"
            ]
          },
          "metadata": {},
          "execution_count": 3
        }
      ]
    },
    {
      "cell_type": "code",
      "source": [
        "# get tensor back as python int\n",
        "scalar.item()"
      ],
      "metadata": {
        "colab": {
          "base_uri": "https://localhost:8080/"
        },
        "id": "lP5QdauoWERI",
        "outputId": "3c3aed28-c250-4765-ad93-cd379140066a"
      },
      "execution_count": 4,
      "outputs": [
        {
          "output_type": "execute_result",
          "data": {
            "text/plain": [
              "1682"
            ]
          },
          "metadata": {},
          "execution_count": 4
        }
      ]
    },
    {
      "cell_type": "markdown",
      "source": [
        "## Vector"
      ],
      "metadata": {
        "id": "_6MGUB0-ZTUv"
      }
    },
    {
      "cell_type": "code",
      "source": [
        "#Vector\n",
        "vector = torch.tensor([1,2,3])\n",
        "vector"
      ],
      "metadata": {
        "colab": {
          "base_uri": "https://localhost:8080/"
        },
        "id": "dPdCS3lsWMAN",
        "outputId": "9863d4f4-89dd-4fb8-b093-a91ba72dc78f"
      },
      "execution_count": 5,
      "outputs": [
        {
          "output_type": "execute_result",
          "data": {
            "text/plain": [
              "tensor([1, 2, 3])"
            ]
          },
          "metadata": {},
          "execution_count": 5
        }
      ]
    },
    {
      "cell_type": "code",
      "source": [
        "vector.ndim"
      ],
      "metadata": {
        "colab": {
          "base_uri": "https://localhost:8080/"
        },
        "id": "TCyfG3XWWg21",
        "outputId": "12a8df8f-7bca-4578-a8d6-f26b538d8887"
      },
      "execution_count": 6,
      "outputs": [
        {
          "output_type": "execute_result",
          "data": {
            "text/plain": [
              "1"
            ]
          },
          "metadata": {},
          "execution_count": 6
        }
      ]
    },
    {
      "cell_type": "markdown",
      "source": [
        "## Matrix"
      ],
      "metadata": {
        "id": "cxRcZKLuZXpI"
      }
    },
    {
      "cell_type": "code",
      "source": [
        "#MATRIX\n",
        "MATRIX = torch.tensor([[1,2,3],[4,5,6]])\n",
        "MATRIX"
      ],
      "metadata": {
        "colab": {
          "base_uri": "https://localhost:8080/"
        },
        "id": "BXa3ZIpnWspU",
        "outputId": "36ebca36-e9fc-41ef-c57d-aa7df4c0abb5"
      },
      "execution_count": 7,
      "outputs": [
        {
          "output_type": "execute_result",
          "data": {
            "text/plain": [
              "tensor([[1, 2, 3],\n",
              "        [4, 5, 6]])"
            ]
          },
          "metadata": {},
          "execution_count": 7
        }
      ]
    },
    {
      "cell_type": "code",
      "source": [
        "MATRIX.ndim"
      ],
      "metadata": {
        "colab": {
          "base_uri": "https://localhost:8080/"
        },
        "id": "ve2ok2QyWzBP",
        "outputId": "c304d179-42aa-4469-bb6b-17208bcda50a"
      },
      "execution_count": 8,
      "outputs": [
        {
          "output_type": "execute_result",
          "data": {
            "text/plain": [
              "2"
            ]
          },
          "metadata": {},
          "execution_count": 8
        }
      ]
    },
    {
      "cell_type": "code",
      "source": [
        "MATRIX.shape"
      ],
      "metadata": {
        "colab": {
          "base_uri": "https://localhost:8080/"
        },
        "id": "xGCkZGbfXPUu",
        "outputId": "f6a379f1-98f3-4a05-a76b-3cfb630e9e1f"
      },
      "execution_count": 9,
      "outputs": [
        {
          "output_type": "execute_result",
          "data": {
            "text/plain": [
              "torch.Size([2, 3])"
            ]
          },
          "metadata": {},
          "execution_count": 9
        }
      ]
    },
    {
      "cell_type": "code",
      "source": [
        "MATRIX[0]"
      ],
      "metadata": {
        "colab": {
          "base_uri": "https://localhost:8080/"
        },
        "id": "4u3aJNRvXS9s",
        "outputId": "25b4341c-8e99-4498-ab47-e7c38230d7a5"
      },
      "execution_count": 10,
      "outputs": [
        {
          "output_type": "execute_result",
          "data": {
            "text/plain": [
              "tensor([1, 2, 3])"
            ]
          },
          "metadata": {},
          "execution_count": 10
        }
      ]
    },
    {
      "cell_type": "code",
      "source": [
        "MATRIX[0][2].item()"
      ],
      "metadata": {
        "colab": {
          "base_uri": "https://localhost:8080/"
        },
        "id": "1cvd4rS2W4Nb",
        "outputId": "52836578-4f06-4b4f-c105-c4b63c63a39b"
      },
      "execution_count": 11,
      "outputs": [
        {
          "output_type": "execute_result",
          "data": {
            "text/plain": [
              "3"
            ]
          },
          "metadata": {},
          "execution_count": 11
        }
      ]
    },
    {
      "cell_type": "markdown",
      "source": [
        "## Tensor"
      ],
      "metadata": {
        "id": "1i4w993aZbye"
      }
    },
    {
      "cell_type": "code",
      "source": [
        "#TENSOR\n",
        "TENSOR = torch.tensor([[[1,2,3],[4,5,6],[7,8,9]]])\n",
        "TENSOR"
      ],
      "metadata": {
        "colab": {
          "base_uri": "https://localhost:8080/"
        },
        "id": "637mECJUW_wn",
        "outputId": "05300d57-add4-455e-ec40-c750dbd175fe"
      },
      "execution_count": 12,
      "outputs": [
        {
          "output_type": "execute_result",
          "data": {
            "text/plain": [
              "tensor([[[1, 2, 3],\n",
              "         [4, 5, 6],\n",
              "         [7, 8, 9]]])"
            ]
          },
          "metadata": {},
          "execution_count": 12
        }
      ]
    },
    {
      "cell_type": "code",
      "source": [
        "TENSOR.ndim"
      ],
      "metadata": {
        "colab": {
          "base_uri": "https://localhost:8080/"
        },
        "id": "RvHROhbHXfcj",
        "outputId": "2341b83a-2418-4109-ad2e-813f7903cd3e"
      },
      "execution_count": 13,
      "outputs": [
        {
          "output_type": "execute_result",
          "data": {
            "text/plain": [
              "3"
            ]
          },
          "metadata": {},
          "execution_count": 13
        }
      ]
    },
    {
      "cell_type": "code",
      "source": [
        "TENSOR.shape"
      ],
      "metadata": {
        "colab": {
          "base_uri": "https://localhost:8080/"
        },
        "id": "haY6sMhYXjvv",
        "outputId": "a1353311-34c1-41f0-88c4-c18a2e005fed"
      },
      "execution_count": 14,
      "outputs": [
        {
          "output_type": "execute_result",
          "data": {
            "text/plain": [
              "torch.Size([1, 3, 3])"
            ]
          },
          "metadata": {},
          "execution_count": 14
        }
      ]
    },
    {
      "cell_type": "code",
      "source": [
        "TENSOR[0]"
      ],
      "metadata": {
        "colab": {
          "base_uri": "https://localhost:8080/"
        },
        "id": "I2SUW6bFXnC_",
        "outputId": "e4c59250-692b-4bf8-bca5-7ad370be6b8a"
      },
      "execution_count": 15,
      "outputs": [
        {
          "output_type": "execute_result",
          "data": {
            "text/plain": [
              "tensor([[1, 2, 3],\n",
              "        [4, 5, 6],\n",
              "        [7, 8, 9]])"
            ]
          },
          "metadata": {},
          "execution_count": 15
        }
      ]
    },
    {
      "cell_type": "code",
      "source": [
        "#PRACTICE\n",
        "\n",
        "TENSOR2 = torch.tensor([[[1,2,3,4],\n",
        "                         [2,3,4,56]],\n",
        "                        [[1,2,3,4],\n",
        "                         [2,3,4,56]]])\n",
        "\n",
        "TENSOR2.shape"
      ],
      "metadata": {
        "colab": {
          "base_uri": "https://localhost:8080/"
        },
        "id": "S9-S89UjXves",
        "outputId": "7789d40e-59b5-4964-ebee-ae06564542d0"
      },
      "execution_count": 16,
      "outputs": [
        {
          "output_type": "execute_result",
          "data": {
            "text/plain": [
              "torch.Size([2, 2, 4])"
            ]
          },
          "metadata": {},
          "execution_count": 16
        }
      ]
    },
    {
      "cell_type": "markdown",
      "source": [
        "![image.png](data:image/png;base64,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)"
      ],
      "metadata": {
        "id": "_WJ7W25aZutB"
      }
    },
    {
      "cell_type": "markdown",
      "source": [
        "# CREATING RANDOM TENSORS\n",
        "\n",
        "- Why Random Tensors? They're important because the way many neural networks learn is that they start with tensors full of random numbers and then adjust those random numbers to better represent the data!!!!!!!!!!\n",
        "\n",
        "- Start with random numbers > look at data > update random numbers > look at data > update random numbers"
      ],
      "metadata": {
        "id": "Ufc_lDWRZGUp"
      }
    },
    {
      "cell_type": "code",
      "source": [
        "# Create random tensor of size (3, 4)\n",
        "random_tensor = torch.rand(3, 4)"
      ],
      "metadata": {
        "id": "x9I-v--tYTbg"
      },
      "execution_count": 17,
      "outputs": []
    },
    {
      "cell_type": "code",
      "source": [
        "random_tensor"
      ],
      "metadata": {
        "colab": {
          "base_uri": "https://localhost:8080/"
        },
        "id": "Zy89jOwbauJz",
        "outputId": "da618d45-381d-4c1d-96dd-06e7df3b0c43"
      },
      "execution_count": 18,
      "outputs": [
        {
          "output_type": "execute_result",
          "data": {
            "text/plain": [
              "tensor([[0.7776, 0.3534, 0.5968, 0.5495],\n",
              "        [0.7108, 0.8909, 0.2929, 0.8595],\n",
              "        [0.0916, 0.1696, 0.2320, 0.3722]])"
            ]
          },
          "metadata": {},
          "execution_count": 18
        }
      ]
    },
    {
      "cell_type": "code",
      "source": [
        "random_tensor.ndim"
      ],
      "metadata": {
        "colab": {
          "base_uri": "https://localhost:8080/"
        },
        "id": "bvxO98afawNE",
        "outputId": "b8b70ffb-069b-4274-d0b7-d67748dd3c28"
      },
      "execution_count": 19,
      "outputs": [
        {
          "output_type": "execute_result",
          "data": {
            "text/plain": [
              "2"
            ]
          },
          "metadata": {},
          "execution_count": 19
        }
      ]
    },
    {
      "cell_type": "code",
      "source": [
        "#Create random tensor with similar image shape\n",
        "image_random_tensor = torch.rand(size=(3, 224, 224))\n",
        "image_random_tensor.shape"
      ],
      "metadata": {
        "colab": {
          "base_uri": "https://localhost:8080/"
        },
        "id": "XQf-uBV6a1a3",
        "outputId": "217a37c7-6d2a-451b-892c-e133dd21b2a9"
      },
      "execution_count": 20,
      "outputs": [
        {
          "output_type": "execute_result",
          "data": {
            "text/plain": [
              "torch.Size([3, 224, 224])"
            ]
          },
          "metadata": {},
          "execution_count": 20
        }
      ]
    },
    {
      "cell_type": "markdown",
      "source": [
        "## Zeros and Ones"
      ],
      "metadata": {
        "id": "nYigIjlAcVYt"
      }
    },
    {
      "cell_type": "code",
      "source": [
        "zeros = torch.zeros(size=(3, 4))\n",
        "zeros"
      ],
      "metadata": {
        "colab": {
          "base_uri": "https://localhost:8080/"
        },
        "id": "OJMPMuJZcHyi",
        "outputId": "a197b468-42c7-441e-f2c9-5141921bc25e"
      },
      "execution_count": 21,
      "outputs": [
        {
          "output_type": "execute_result",
          "data": {
            "text/plain": [
              "tensor([[0., 0., 0., 0.],\n",
              "        [0., 0., 0., 0.],\n",
              "        [0., 0., 0., 0.]])"
            ]
          },
          "metadata": {},
          "execution_count": 21
        }
      ]
    },
    {
      "cell_type": "code",
      "source": [
        "ones = torch.ones(size=(3, 4))\n",
        "ones"
      ],
      "metadata": {
        "colab": {
          "base_uri": "https://localhost:8080/"
        },
        "id": "UdJs_yQScp3Y",
        "outputId": "a4cd7e59-d9d5-4a1d-e08b-3b9dc3df40be"
      },
      "execution_count": 22,
      "outputs": [
        {
          "output_type": "execute_result",
          "data": {
            "text/plain": [
              "tensor([[1., 1., 1., 1.],\n",
              "        [1., 1., 1., 1.],\n",
              "        [1., 1., 1., 1.]])"
            ]
          },
          "metadata": {},
          "execution_count": 22
        }
      ]
    },
    {
      "cell_type": "code",
      "source": [
        "zeros*random_tensor"
      ],
      "metadata": {
        "colab": {
          "base_uri": "https://localhost:8080/"
        },
        "id": "48HfzOaFcvJZ",
        "outputId": "cedd2054-7b1a-40e9-a369-414d84ad6d33"
      },
      "execution_count": 23,
      "outputs": [
        {
          "output_type": "execute_result",
          "data": {
            "text/plain": [
              "tensor([[0., 0., 0., 0.],\n",
              "        [0., 0., 0., 0.],\n",
              "        [0., 0., 0., 0.]])"
            ]
          },
          "metadata": {},
          "execution_count": 23
        }
      ]
    },
    {
      "cell_type": "markdown",
      "source": [
        "## Range & tensors-like"
      ],
      "metadata": {
        "id": "CGKIEoO7c4y7"
      }
    },
    {
      "cell_type": "code",
      "source": [
        "range_tensor = torch.arange(1, 10)\n",
        "range_tensor"
      ],
      "metadata": {
        "colab": {
          "base_uri": "https://localhost:8080/"
        },
        "id": "O1yOM_VRc0aQ",
        "outputId": "d191166f-693d-49e7-990c-eff97dc09aa5"
      },
      "execution_count": 24,
      "outputs": [
        {
          "output_type": "execute_result",
          "data": {
            "text/plain": [
              "tensor([1, 2, 3, 4, 5, 6, 7, 8, 9])"
            ]
          },
          "metadata": {},
          "execution_count": 24
        }
      ]
    },
    {
      "cell_type": "code",
      "source": [
        "range_tensor_1 = torch.arange(start=0, end=1000, step=77)\n",
        "range_tensor_1"
      ],
      "metadata": {
        "colab": {
          "base_uri": "https://localhost:8080/"
        },
        "id": "RlT3W7e_dDW7",
        "outputId": "4f53874d-4df0-44b0-94b0-ec610e9bbc50"
      },
      "execution_count": 25,
      "outputs": [
        {
          "output_type": "execute_result",
          "data": {
            "text/plain": [
              "tensor([  0,  77, 154, 231, 308, 385, 462, 539, 616, 693, 770, 847, 924])"
            ]
          },
          "metadata": {},
          "execution_count": 25
        }
      ]
    },
    {
      "cell_type": "code",
      "source": [
        "#creating tensors-like\n",
        "image_zeros = torch.zeros_like(input=image_random_tensor)\n",
        "image_zeros"
      ],
      "metadata": {
        "colab": {
          "base_uri": "https://localhost:8080/"
        },
        "id": "MTUhvhLPdYZw",
        "outputId": "46c1d265-6f0e-4927-c185-1b24e1231797"
      },
      "execution_count": 26,
      "outputs": [
        {
          "output_type": "execute_result",
          "data": {
            "text/plain": [
              "tensor([[[0., 0., 0.,  ..., 0., 0., 0.],\n",
              "         [0., 0., 0.,  ..., 0., 0., 0.],\n",
              "         [0., 0., 0.,  ..., 0., 0., 0.],\n",
              "         ...,\n",
              "         [0., 0., 0.,  ..., 0., 0., 0.],\n",
              "         [0., 0., 0.,  ..., 0., 0., 0.],\n",
              "         [0., 0., 0.,  ..., 0., 0., 0.]],\n",
              "\n",
              "        [[0., 0., 0.,  ..., 0., 0., 0.],\n",
              "         [0., 0., 0.,  ..., 0., 0., 0.],\n",
              "         [0., 0., 0.,  ..., 0., 0., 0.],\n",
              "         ...,\n",
              "         [0., 0., 0.,  ..., 0., 0., 0.],\n",
              "         [0., 0., 0.,  ..., 0., 0., 0.],\n",
              "         [0., 0., 0.,  ..., 0., 0., 0.]],\n",
              "\n",
              "        [[0., 0., 0.,  ..., 0., 0., 0.],\n",
              "         [0., 0., 0.,  ..., 0., 0., 0.],\n",
              "         [0., 0., 0.,  ..., 0., 0., 0.],\n",
              "         ...,\n",
              "         [0., 0., 0.,  ..., 0., 0., 0.],\n",
              "         [0., 0., 0.,  ..., 0., 0., 0.],\n",
              "         [0., 0., 0.,  ..., 0., 0., 0.]]])"
            ]
          },
          "metadata": {},
          "execution_count": 26
        }
      ]
    },
    {
      "cell_type": "markdown",
      "source": [
        "# Tensor Datatyoes\n",
        "\n",
        "**NOTE:** The following are the three big errors we might run into while working with PyTorch & Deep Learning.\n",
        "\n",
        "\n",
        "\n",
        "1.  Tensors not right datatype\n",
        "2.  Tensors not right shape\n",
        "3.  Tensors not on right device\n",
        "\n"
      ],
      "metadata": {
        "id": "usX6fTZNeiDm"
      }
    },
    {
      "cell_type": "markdown",
      "source": [
        "- dtype > NONE by default it is FLOAT 32\n",
        "- device > NONE by default is CPU, but we can set it to CUDA if we're using GPU.\n",
        "- grad > Whether or not to track GRADIENTS with this tensors operation"
      ],
      "metadata": {
        "id": "hQkWTQEOhUig"
      }
    },
    {
      "cell_type": "code",
      "source": [
        "float_16_tensor = torch.tensor([1, 2, 3], dtype=torch.float16)\n",
        "float_32_tensor = torch.tensor([1, 2, 3], dtype=torch.float32)"
      ],
      "metadata": {
        "id": "esZl2xZxeFwM"
      },
      "execution_count": 27,
      "outputs": []
    },
    {
      "cell_type": "code",
      "source": [
        "float_16_tensor*float_32_tensor"
      ],
      "metadata": {
        "colab": {
          "base_uri": "https://localhost:8080/"
        },
        "id": "TaTg23NHhH73",
        "outputId": "69eb708e-1733-4c73-9dad-3da5b441b78e"
      },
      "execution_count": 28,
      "outputs": [
        {
          "output_type": "execute_result",
          "data": {
            "text/plain": [
              "tensor([1., 4., 9.])"
            ]
          },
          "metadata": {},
          "execution_count": 28
        }
      ]
    },
    {
      "cell_type": "code",
      "source": [
        "float_int32_tensor = torch.tensor([1, 2, 3], dtype=torch.int32)"
      ],
      "metadata": {
        "id": "p-k_VJkmiFKF"
      },
      "execution_count": 29,
      "outputs": []
    },
    {
      "cell_type": "code",
      "source": [
        "float_32_tensor*float_int32_tensor"
      ],
      "metadata": {
        "colab": {
          "base_uri": "https://localhost:8080/"
        },
        "id": "2isq6_veiVhh",
        "outputId": "d7c39a69-7f4d-4526-95d4-3cfd11c04f76"
      },
      "execution_count": 30,
      "outputs": [
        {
          "output_type": "execute_result",
          "data": {
            "text/plain": [
              "tensor([1., 4., 9.])"
            ]
          },
          "metadata": {},
          "execution_count": 30
        }
      ]
    },
    {
      "cell_type": "markdown",
      "source": [
        "- Sometimes it may throw an error, sometimes it won't. So keep this in mind."
      ],
      "metadata": {
        "id": "23jH9wUDiygL"
      }
    },
    {
      "cell_type": "markdown",
      "source": [
        "# Getting Information from Tensors\n",
        "\n",
        "* datatype = tensor.dtype\n",
        "* shape = tensor.shape\n",
        "* device = tensor.device"
      ],
      "metadata": {
        "id": "_v1ag1U-i--Q"
      }
    },
    {
      "cell_type": "code",
      "source": [
        "some_tensor = torch.rand(3, 4)"
      ],
      "metadata": {
        "id": "M8P_IbhLiYRQ"
      },
      "execution_count": 31,
      "outputs": []
    },
    {
      "cell_type": "code",
      "source": [
        "# Find out details about some_tensor\n",
        "print(some_tensor,'\\n')\n",
        "print(f\"Datatype of tensor: {some_tensor.dtype}\")\n",
        "print(f\"Shape of tensor: {some_tensor.shape}\")\n",
        "print(f\"Device tensor is on: {some_tensor.device}\")"
      ],
      "metadata": {
        "colab": {
          "base_uri": "https://localhost:8080/"
        },
        "id": "cobZTUe-jbvz",
        "outputId": "73490677-6c9f-4328-d19c-a08c2c4d3520"
      },
      "execution_count": 32,
      "outputs": [
        {
          "output_type": "stream",
          "name": "stdout",
          "text": [
            "tensor([[0.3604, 0.4758, 0.2031, 0.3124],\n",
            "        [0.0060, 0.1697, 0.1171, 0.2949],\n",
            "        [0.7010, 0.5368, 0.6954, 0.8915]]) \n",
            "\n",
            "Datatype of tensor: torch.float32\n",
            "Shape of tensor: torch.Size([3, 4])\n",
            "Device tensor is on: cpu\n"
          ]
        }
      ]
    },
    {
      "cell_type": "markdown",
      "source": [
        "## Manipulating Tensors"
      ],
      "metadata": {
        "id": "5d8CvO-Fkgwr"
      }
    },
    {
      "cell_type": "code",
      "source": [
        "tensor1 = torch.tensor([1, 2, 3])"
      ],
      "metadata": {
        "id": "I7zG5UV0jhJ0"
      },
      "execution_count": 33,
      "outputs": []
    },
    {
      "cell_type": "code",
      "source": [
        "%%time\n",
        "print(tensor1 + 10)\n",
        "print(tensor1 - 10)\n",
        "print(tensor1 * 10)\n",
        "print(tensor1 / 10)"
      ],
      "metadata": {
        "colab": {
          "base_uri": "https://localhost:8080/"
        },
        "id": "m4UoFMCHkt3B",
        "outputId": "935bf407-989f-47f9-b0fa-e04a6edb8a7f"
      },
      "execution_count": 34,
      "outputs": [
        {
          "output_type": "stream",
          "name": "stdout",
          "text": [
            "tensor([11, 12, 13])\n",
            "tensor([-9, -8, -7])\n",
            "tensor([10, 20, 30])\n",
            "tensor([0.1000, 0.2000, 0.3000])\n",
            "CPU times: user 2.9 ms, sys: 0 ns, total: 2.9 ms\n",
            "Wall time: 7.01 ms\n"
          ]
        }
      ]
    },
    {
      "cell_type": "code",
      "source": [
        "%%time\n",
        "print(torch.add(tensor1, 10))\n",
        "print(torch.subtract(tensor1, 10))\n",
        "print(torch.multiply(tensor1, 10))\n",
        "print(torch.divide(tensor1, 10))"
      ],
      "metadata": {
        "colab": {
          "base_uri": "https://localhost:8080/"
        },
        "id": "sTz_tI0kkzJ-",
        "outputId": "b074c57a-c9b4-4aaa-8c9b-181034d2ccb8"
      },
      "execution_count": 35,
      "outputs": [
        {
          "output_type": "stream",
          "name": "stdout",
          "text": [
            "tensor([11, 12, 13])\n",
            "tensor([-9, -8, -7])\n",
            "tensor([10, 20, 30])\n",
            "tensor([0.1000, 0.2000, 0.3000])\n",
            "CPU times: user 1.58 ms, sys: 0 ns, total: 1.58 ms\n",
            "Wall time: 1.61 ms\n"
          ]
        }
      ]
    },
    {
      "cell_type": "markdown",
      "source": [
        "# Matrix Multiplication\n",
        "\n",
        "*2 Rules of Matrix Multiplication*\n",
        "1. *The inner dimensions must match*\n",
        "2. *The resulting matrix has the shape of outer dimensions*\n",
        "\n"
      ],
      "metadata": {
        "id": "wNZEHJkTWuuH"
      }
    },
    {
      "cell_type": "markdown",
      "source": [
        "## Element wise multiplication"
      ],
      "metadata": {
        "id": "FFCgZyk6W1HH"
      }
    },
    {
      "cell_type": "code",
      "source": [
        "a = torch.tensor([1, 2, 3])\n",
        "b = torch.tensor([4, 5, 6])"
      ],
      "metadata": {
        "id": "k7gbrGXolGE4"
      },
      "execution_count": 36,
      "outputs": []
    },
    {
      "cell_type": "code",
      "source": [
        "print(f\"{a} * {b} = {a*b}\")"
      ],
      "metadata": {
        "colab": {
          "base_uri": "https://localhost:8080/"
        },
        "id": "_4LTNz4qXDHv",
        "outputId": "d2316810-79c3-45b5-f743-39b8efd581b8"
      },
      "execution_count": 37,
      "outputs": [
        {
          "output_type": "stream",
          "name": "stdout",
          "text": [
            "tensor([1, 2, 3]) * tensor([4, 5, 6]) = tensor([ 4, 10, 18])\n"
          ]
        }
      ]
    },
    {
      "cell_type": "markdown",
      "source": [
        "## Matrix Multiplication (Dot Product)"
      ],
      "metadata": {
        "id": "zdlZ7AnAXPWU"
      }
    },
    {
      "cell_type": "code",
      "source": [
        "print(f\"{a} * {b} = {torch.matmul(a, b)}\")"
      ],
      "metadata": {
        "colab": {
          "base_uri": "https://localhost:8080/"
        },
        "id": "pBRWyToVXM4t",
        "outputId": "a19f5466-a80a-477f-c453-f426e215459c"
      },
      "execution_count": 38,
      "outputs": [
        {
          "output_type": "stream",
          "name": "stdout",
          "text": [
            "tensor([1, 2, 3]) * tensor([4, 5, 6]) = 32\n"
          ]
        }
      ]
    },
    {
      "cell_type": "code",
      "source": [
        "%%time\n",
        "value = 0\n",
        "for i in range(len(a)):\n",
        "  value += a[i]*b[i]\n",
        "print(value)"
      ],
      "metadata": {
        "colab": {
          "base_uri": "https://localhost:8080/"
        },
        "id": "W7uAjMhSXVJo",
        "outputId": "65fd7a3a-06b8-4622-ac4e-4b611a00d14b"
      },
      "execution_count": 39,
      "outputs": [
        {
          "output_type": "stream",
          "name": "stdout",
          "text": [
            "tensor(32)\n",
            "CPU times: user 2.35 ms, sys: 0 ns, total: 2.35 ms\n",
            "Wall time: 7.26 ms\n"
          ]
        }
      ]
    },
    {
      "cell_type": "code",
      "source": [
        "%%time\n",
        "torch.matmul(a, b)"
      ],
      "metadata": {
        "colab": {
          "base_uri": "https://localhost:8080/"
        },
        "id": "I3oQyjcFXpMz",
        "outputId": "d27ae681-1341-429c-d417-fd754ea7931e"
      },
      "execution_count": 40,
      "outputs": [
        {
          "output_type": "stream",
          "name": "stdout",
          "text": [
            "CPU times: user 39 µs, sys: 0 ns, total: 39 µs\n",
            "Wall time: 42.2 µs\n"
          ]
        },
        {
          "output_type": "execute_result",
          "data": {
            "text/plain": [
              "tensor(32)"
            ]
          },
          "metadata": {},
          "execution_count": 40
        }
      ]
    },
    {
      "cell_type": "markdown",
      "source": [
        "## Shapes for matrix multiplication"
      ],
      "metadata": {
        "id": "ZfOcxzMUZoF1"
      }
    },
    {
      "cell_type": "code",
      "source": [
        "tensor_a = torch.rand(3, 2)\n",
        "tensor_b = torch.rand(3, 2)\n",
        "\n",
        "torch.mm(tensor_a, tensor_b.T) # torch.mm is short for torch.matmul"
      ],
      "metadata": {
        "colab": {
          "base_uri": "https://localhost:8080/"
        },
        "id": "0LbCY3QYXxiB",
        "outputId": "970b8d9e-6394-44d2-be65-4642c01acc86"
      },
      "execution_count": 41,
      "outputs": [
        {
          "output_type": "execute_result",
          "data": {
            "text/plain": [
              "tensor([[0.1954, 0.3540, 0.8167],\n",
              "        [0.1367, 0.2452, 0.8639],\n",
              "        [0.2078, 0.3755, 0.9801]])"
            ]
          },
          "metadata": {},
          "execution_count": 41
        }
      ]
    },
    {
      "cell_type": "code",
      "source": [
        "print(tensor_b,'\\n')\n",
        "print(tensor_b.T)"
      ],
      "metadata": {
        "colab": {
          "base_uri": "https://localhost:8080/"
        },
        "id": "BQtzJNDQZ1_Y",
        "outputId": "52cf9e81-6250-422e-f9dd-3e9779bfad0b"
      },
      "execution_count": 42,
      "outputs": [
        {
          "output_type": "stream",
          "name": "stdout",
          "text": [
            "tensor([[0.3826, 0.1265],\n",
            "        [0.7038, 0.2258],\n",
            "        [0.3152, 0.9293]]) \n",
            "\n",
            "tensor([[0.3826, 0.7038, 0.3152],\n",
            "        [0.1265, 0.2258, 0.9293]])\n"
          ]
        }
      ]
    },
    {
      "cell_type": "markdown",
      "source": [
        "# Tensor Aggregation"
      ],
      "metadata": {
        "id": "yLg7fXYDbijn"
      }
    },
    {
      "cell_type": "code",
      "source": [
        "tensor_x = torch.arange(0, 100, 10)\n",
        "tensor_x"
      ],
      "metadata": {
        "colab": {
          "base_uri": "https://localhost:8080/"
        },
        "id": "ZMxVmLsQaTkz",
        "outputId": "ccd1f818-9868-42ce-c885-86d9ae70dc98"
      },
      "execution_count": 43,
      "outputs": [
        {
          "output_type": "execute_result",
          "data": {
            "text/plain": [
              "tensor([ 0, 10, 20, 30, 40, 50, 60, 70, 80, 90])"
            ]
          },
          "metadata": {},
          "execution_count": 43
        }
      ]
    },
    {
      "cell_type": "code",
      "source": [
        "tensor_x.dtype"
      ],
      "metadata": {
        "colab": {
          "base_uri": "https://localhost:8080/"
        },
        "id": "Mr79zcP2b6ca",
        "outputId": "cd828077-166f-4ad9-e6ff-548e1d1b3eda"
      },
      "execution_count": 44,
      "outputs": [
        {
          "output_type": "execute_result",
          "data": {
            "text/plain": [
              "torch.int64"
            ]
          },
          "metadata": {},
          "execution_count": 44
        }
      ]
    },
    {
      "cell_type": "code",
      "source": [
        "# Aggregation functions\n",
        "print(f\"Minimum: {tensor_x.min()}\")\n",
        "print(f\"Maximum: {tensor_x.max()}\")\n",
        "print(f\"Sum: {tensor_x.sum()}\")\n",
        "print(f\"Mean: {tensor_x.type(torch.float32).mean()}\") # NOTE: torch.mean reuires a tensor of float32 dtype to work"
      ],
      "metadata": {
        "colab": {
          "base_uri": "https://localhost:8080/"
        },
        "id": "ixLOc9xgbtso",
        "outputId": "4a46fd9d-93ae-421d-f9cf-90cd81e7a744"
      },
      "execution_count": 45,
      "outputs": [
        {
          "output_type": "stream",
          "name": "stdout",
          "text": [
            "Minimum: 0\n",
            "Maximum: 90\n",
            "Sum: 450\n",
            "Mean: 45.0\n"
          ]
        }
      ]
    },
    {
      "cell_type": "code",
      "source": [
        "# Positional Aggregation Functions\n",
        "print(f\"Index of minimum value: {tensor_x.argmin()}\")\n",
        "print(f\"Index of maximum value: {tensor_x.argmax()}\")"
      ],
      "metadata": {
        "colab": {
          "base_uri": "https://localhost:8080/"
        },
        "id": "dSC6x3bpcYNG",
        "outputId": "37e2a307-921c-4c7c-ec48-b2f4d7bcf3a4"
      },
      "execution_count": 46,
      "outputs": [
        {
          "output_type": "stream",
          "name": "stdout",
          "text": [
            "Index of minimum value: 0\n",
            "Index of maximum value: 9\n"
          ]
        }
      ]
    },
    {
      "cell_type": "markdown",
      "source": [
        "# Reshaping, Stacking, Squeezing, Unsqueezing\n",
        "\n",
        "- **Reshaping**: Reshapes an input tensor to a defined shape\n",
        "-  **View**: Return a view of a certain tensor but keep the same memory as the original tensor\n",
        "- **Stacking**: Combine multiple tensors on top of each other\n",
        "- **Squeeze**: removes all '1' dimension from a tensor\n",
        "- **Unsqueeze**: Add a '1' dimension to a target tensor\n",
        "- **Permute**: Return a view of the input with dimensions permuted (swapped) in a certain way"
      ],
      "metadata": {
        "id": "COmOvKI2c_3Y"
      }
    },
    {
      "cell_type": "code",
      "source": [
        "tensor_x, tensor_x.shape"
      ],
      "metadata": {
        "colab": {
          "base_uri": "https://localhost:8080/"
        },
        "id": "DGj_xDgqcoDf",
        "outputId": "bbb7159a-9871-44f8-b12d-205b71d012fb"
      },
      "execution_count": 47,
      "outputs": [
        {
          "output_type": "execute_result",
          "data": {
            "text/plain": [
              "(tensor([ 0, 10, 20, 30, 40, 50, 60, 70, 80, 90]), torch.Size([10]))"
            ]
          },
          "metadata": {},
          "execution_count": 47
        }
      ]
    },
    {
      "cell_type": "code",
      "source": [
        "tensor_x_reshaped = tensor_x.reshape(1, 1, 5, 2, 1, 1)\n",
        "tensor_x_reshaped, tensor_x_reshaped.shape"
      ],
      "metadata": {
        "id": "ehPorb8BeXnW",
        "colab": {
          "base_uri": "https://localhost:8080/"
        },
        "outputId": "ea6831ef-7116-4d01-a50c-575f24d9d1b2"
      },
      "execution_count": 48,
      "outputs": [
        {
          "output_type": "execute_result",
          "data": {
            "text/plain": [
              "(tensor([[[[[[ 0]],\n",
              " \n",
              "            [[10]]],\n",
              " \n",
              " \n",
              "           [[[20]],\n",
              " \n",
              "            [[30]]],\n",
              " \n",
              " \n",
              "           [[[40]],\n",
              " \n",
              "            [[50]]],\n",
              " \n",
              " \n",
              "           [[[60]],\n",
              " \n",
              "            [[70]]],\n",
              " \n",
              " \n",
              "           [[[80]],\n",
              " \n",
              "            [[90]]]]]]),\n",
              " torch.Size([1, 1, 5, 2, 1, 1]))"
            ]
          },
          "metadata": {},
          "execution_count": 48
        }
      ]
    },
    {
      "cell_type": "code",
      "source": [
        "# Change the view\n",
        "tensor_x_view = tensor_x.view(10, 1)\n",
        "print(tensor_x_view, tensor_x_view.shape,'\\n')\n",
        "'Chaging the view of a tensor will change the original tensor, because they share the same memory'"
      ],
      "metadata": {
        "colab": {
          "base_uri": "https://localhost:8080/",
          "height": 243
        },
        "id": "sbmlXsv0ejCO",
        "outputId": "a3253708-cf28-43f2-da19-b5169647a566"
      },
      "execution_count": 49,
      "outputs": [
        {
          "output_type": "stream",
          "name": "stdout",
          "text": [
            "tensor([[ 0],\n",
            "        [10],\n",
            "        [20],\n",
            "        [30],\n",
            "        [40],\n",
            "        [50],\n",
            "        [60],\n",
            "        [70],\n",
            "        [80],\n",
            "        [90]]) torch.Size([10, 1]) \n",
            "\n"
          ]
        },
        {
          "output_type": "execute_result",
          "data": {
            "text/plain": [
              "'Chaging the view of a tensor will change the original tensor, because they share the same memory'"
            ],
            "application/vnd.google.colaboratory.intrinsic+json": {
              "type": "string"
            }
          },
          "metadata": {},
          "execution_count": 49
        }
      ]
    },
    {
      "cell_type": "code",
      "source": [
        "# Stack tensors on top of each other\n",
        "tensor_x_stacked_rows = torch.stack([tensor_x, tensor_x, tensor_x], dim=0)\n",
        "tensor_x_stacked_columns = torch.stack([tensor_x, tensor_x, tensor_x], dim=1)\n",
        "print(tensor_x_stacked_rows,'\\n')\n",
        "print(tensor_x_stacked_columns, '\\n')\n",
        "'torch.hstack uses dim=0, torch.vstack uses dim=1'"
      ],
      "metadata": {
        "colab": {
          "base_uri": "https://localhost:8080/",
          "height": 295
        },
        "id": "H6SH9SXTezaC",
        "outputId": "b0ea3898-2c6f-46d1-a9a0-823ca5b05cc3"
      },
      "execution_count": 50,
      "outputs": [
        {
          "output_type": "stream",
          "name": "stdout",
          "text": [
            "tensor([[ 0, 10, 20, 30, 40, 50, 60, 70, 80, 90],\n",
            "        [ 0, 10, 20, 30, 40, 50, 60, 70, 80, 90],\n",
            "        [ 0, 10, 20, 30, 40, 50, 60, 70, 80, 90]]) \n",
            "\n",
            "tensor([[ 0,  0,  0],\n",
            "        [10, 10, 10],\n",
            "        [20, 20, 20],\n",
            "        [30, 30, 30],\n",
            "        [40, 40, 40],\n",
            "        [50, 50, 50],\n",
            "        [60, 60, 60],\n",
            "        [70, 70, 70],\n",
            "        [80, 80, 80],\n",
            "        [90, 90, 90]]) \n",
            "\n"
          ]
        },
        {
          "output_type": "execute_result",
          "data": {
            "text/plain": [
              "'torch.hstack uses dim=0, torch.vstack uses dim=1'"
            ],
            "application/vnd.google.colaboratory.intrinsic+json": {
              "type": "string"
            }
          },
          "metadata": {},
          "execution_count": 50
        }
      ]
    },
    {
      "cell_type": "code",
      "source": [
        "# Squeeze\n",
        "print(f\"Previous tensor: {tensor_x_reshaped}\")\n",
        "print(f\"\\nPrevious shape: {tensor_x_reshaped.shape}\")\n",
        "tensor_x_squeezed = tensor_x_reshaped.squeeze()\n",
        "print(f\"\\nNew tensor: {tensor_x_squeezed}\")\n",
        "print(f\"\\nNew shape: {tensor_x_squeezed.shape}\")"
      ],
      "metadata": {
        "colab": {
          "base_uri": "https://localhost:8080/"
        },
        "id": "FbbmElkHfUzm",
        "outputId": "8785eb1f-6f67-456d-92f5-430d6e272cd8"
      },
      "execution_count": 51,
      "outputs": [
        {
          "output_type": "stream",
          "name": "stdout",
          "text": [
            "Previous tensor: tensor([[[[[[ 0]],\n",
            "\n",
            "           [[10]]],\n",
            "\n",
            "\n",
            "          [[[20]],\n",
            "\n",
            "           [[30]]],\n",
            "\n",
            "\n",
            "          [[[40]],\n",
            "\n",
            "           [[50]]],\n",
            "\n",
            "\n",
            "          [[[60]],\n",
            "\n",
            "           [[70]]],\n",
            "\n",
            "\n",
            "          [[[80]],\n",
            "\n",
            "           [[90]]]]]])\n",
            "\n",
            "Previous shape: torch.Size([1, 1, 5, 2, 1, 1])\n",
            "\n",
            "New tensor: tensor([[ 0, 10],\n",
            "        [20, 30],\n",
            "        [40, 50],\n",
            "        [60, 70],\n",
            "        [80, 90]])\n",
            "\n",
            "New shape: torch.Size([5, 2])\n"
          ]
        }
      ]
    },
    {
      "cell_type": "code",
      "source": [
        "# Unsqueeze\n",
        "tensor_x_unaqueezed_dim0 = tensor_x_squeezed.unsqueeze(dim=0)\n",
        "tensor_x_unaqueezed_dim1 = tensor_x_squeezed.unsqueeze(dim=1)\n",
        "tensor_x_unaqueezed_dim2 = tensor_x_squeezed.unsqueeze(dim=2)\n",
        "print(f\"Previous tensor: {tensor_x_squeezed} \\n\")\n",
        "print(tensor_x_unaqueezed_dim0,'\\n')\n",
        "print(tensor_x_unaqueezed_dim0.shape, '\\n')\n",
        "print(tensor_x_unaqueezed_dim1,'\\n')\n",
        "print(tensor_x_unaqueezed_dim1.shape, '\\n')\n",
        "print(tensor_x_unaqueezed_dim2,'\\n')\n",
        "print(tensor_x_unaqueezed_dim2.shape, '\\n')"
      ],
      "metadata": {
        "id": "FXNKDG4UgHsz",
        "colab": {
          "base_uri": "https://localhost:8080/"
        },
        "outputId": "5b566556-b3a1-40c1-c1d3-b18b0bad304d"
      },
      "execution_count": 52,
      "outputs": [
        {
          "output_type": "stream",
          "name": "stdout",
          "text": [
            "Previous tensor: tensor([[ 0, 10],\n",
            "        [20, 30],\n",
            "        [40, 50],\n",
            "        [60, 70],\n",
            "        [80, 90]]) \n",
            "\n",
            "tensor([[[ 0, 10],\n",
            "         [20, 30],\n",
            "         [40, 50],\n",
            "         [60, 70],\n",
            "         [80, 90]]]) \n",
            "\n",
            "torch.Size([1, 5, 2]) \n",
            "\n",
            "tensor([[[ 0, 10]],\n",
            "\n",
            "        [[20, 30]],\n",
            "\n",
            "        [[40, 50]],\n",
            "\n",
            "        [[60, 70]],\n",
            "\n",
            "        [[80, 90]]]) \n",
            "\n",
            "torch.Size([5, 1, 2]) \n",
            "\n",
            "tensor([[[ 0],\n",
            "         [10]],\n",
            "\n",
            "        [[20],\n",
            "         [30]],\n",
            "\n",
            "        [[40],\n",
            "         [50]],\n",
            "\n",
            "        [[60],\n",
            "         [70]],\n",
            "\n",
            "        [[80],\n",
            "         [90]]]) \n",
            "\n",
            "torch.Size([5, 2, 1]) \n",
            "\n"
          ]
        }
      ]
    },
    {
      "cell_type": "code",
      "source": [
        "# Permute\n",
        "tensor_x_original = torch.rand(size=(448, 224, 3)) # [height, width, color_channels]\n",
        "tensor_x_permuted = tensor_x_original.permute(2, 0, 1) # [color_channels, height, width]\n",
        "print(f\"Previous shape: {tensor_x_original.shape}\")\n",
        "print(f\"New shape: {tensor_x_permuted.shape}\")"
      ],
      "metadata": {
        "colab": {
          "base_uri": "https://localhost:8080/"
        },
        "id": "JCRt6mtCjrZG",
        "outputId": "4421a8f8-7f6f-44de-a92a-ca9efb7abb57"
      },
      "execution_count": 53,
      "outputs": [
        {
          "output_type": "stream",
          "name": "stdout",
          "text": [
            "Previous shape: torch.Size([448, 224, 3])\n",
            "New shape: torch.Size([3, 448, 224])\n"
          ]
        }
      ]
    },
    {
      "cell_type": "markdown",
      "source": [
        "# Indexing\n",
        "\n",
        "- Similar to indexing with python"
      ],
      "metadata": {
        "id": "2g-rHJxdmX-T"
      }
    },
    {
      "cell_type": "code",
      "source": [
        "x = torch.arange(1, 10).reshape(1, 3, 3)\n",
        "x, x.shape"
      ],
      "metadata": {
        "colab": {
          "base_uri": "https://localhost:8080/"
        },
        "id": "iUAeoJ7Dk8vY",
        "outputId": "4348cfdf-b303-414b-af5e-7cc480c8c0d7"
      },
      "execution_count": 54,
      "outputs": [
        {
          "output_type": "execute_result",
          "data": {
            "text/plain": [
              "(tensor([[[1, 2, 3],\n",
              "          [4, 5, 6],\n",
              "          [7, 8, 9]]]),\n",
              " torch.Size([1, 3, 3]))"
            ]
          },
          "metadata": {},
          "execution_count": 54
        }
      ]
    },
    {
      "cell_type": "code",
      "source": [
        "x[0]"
      ],
      "metadata": {
        "colab": {
          "base_uri": "https://localhost:8080/"
        },
        "id": "mMn31wxCmeRD",
        "outputId": "1d4387e3-15e8-4af3-faba-9b1bde468cd6"
      },
      "execution_count": 55,
      "outputs": [
        {
          "output_type": "execute_result",
          "data": {
            "text/plain": [
              "tensor([[1, 2, 3],\n",
              "        [4, 5, 6],\n",
              "        [7, 8, 9]])"
            ]
          },
          "metadata": {},
          "execution_count": 55
        }
      ]
    },
    {
      "cell_type": "code",
      "source": [
        "x[0][0]"
      ],
      "metadata": {
        "colab": {
          "base_uri": "https://localhost:8080/"
        },
        "id": "X64ojEOemlZR",
        "outputId": "e84d0e1a-3621-423e-dbee-763dc16a81d6"
      },
      "execution_count": 56,
      "outputs": [
        {
          "output_type": "execute_result",
          "data": {
            "text/plain": [
              "tensor([1, 2, 3])"
            ]
          },
          "metadata": {},
          "execution_count": 56
        }
      ]
    },
    {
      "cell_type": "code",
      "source": [
        "x[0][0][0]"
      ],
      "metadata": {
        "colab": {
          "base_uri": "https://localhost:8080/"
        },
        "id": "EniHgeOEmm39",
        "outputId": "4d8df532-0bb3-4611-d41c-9e14f0f4a8bd"
      },
      "execution_count": 57,
      "outputs": [
        {
          "output_type": "execute_result",
          "data": {
            "text/plain": [
              "tensor(1)"
            ]
          },
          "metadata": {},
          "execution_count": 57
        }
      ]
    },
    {
      "cell_type": "code",
      "source": [
        "x[:, :2, 1]"
      ],
      "metadata": {
        "colab": {
          "base_uri": "https://localhost:8080/"
        },
        "id": "Xr1iLjdUmo0e",
        "outputId": "249634e6-ac20-4b62-c6ea-89531ea28f54"
      },
      "execution_count": 58,
      "outputs": [
        {
          "output_type": "execute_result",
          "data": {
            "text/plain": [
              "tensor([[2, 5]])"
            ]
          },
          "metadata": {},
          "execution_count": 58
        }
      ]
    },
    {
      "cell_type": "code",
      "source": [
        "#Challenge\n",
        "x[0, 2, 2]"
      ],
      "metadata": {
        "colab": {
          "base_uri": "https://localhost:8080/"
        },
        "id": "JvngqZcqnJkL",
        "outputId": "bfb01f24-43dc-4821-8330-65b50dfd10fd"
      },
      "execution_count": 59,
      "outputs": [
        {
          "output_type": "execute_result",
          "data": {
            "text/plain": [
              "tensor(9)"
            ]
          },
          "metadata": {},
          "execution_count": 59
        }
      ]
    },
    {
      "cell_type": "code",
      "source": [
        "x[:, :, 2]"
      ],
      "metadata": {
        "colab": {
          "base_uri": "https://localhost:8080/"
        },
        "id": "83_QB0YvPJyc",
        "outputId": "1a284275-8747-480e-fc77-9c0765685900"
      },
      "execution_count": 60,
      "outputs": [
        {
          "output_type": "execute_result",
          "data": {
            "text/plain": [
              "tensor([[3, 6, 9]])"
            ]
          },
          "metadata": {},
          "execution_count": 60
        }
      ]
    },
    {
      "cell_type": "markdown",
      "source": [
        "# PyTorch Tensors & Numpy\n",
        "\n",
        "* Data in NumPy, want in PyTorch Tensor:  torch.from_numpy(ndarray)\n",
        "\n",
        "* PyTorch Tensor to Numpy: torch.Tensor.numpy()"
      ],
      "metadata": {
        "id": "RV9P2HarPhe9"
      }
    },
    {
      "cell_type": "code",
      "source": [
        "# Numpy to tensor\n",
        "array = np.arange(1.0, 8.0)\n",
        "tensor = torch.from_numpy(array) #WARNING: here dtype would be float64 (numpy's default dtype) instead of float32\n",
        "array, array.dtype, tensor"
      ],
      "metadata": {
        "colab": {
          "base_uri": "https://localhost:8080/"
        },
        "id": "P6FJopC-PaBX",
        "outputId": "9f641b62-892b-48f7-9890-c361421fd22d"
      },
      "execution_count": 61,
      "outputs": [
        {
          "output_type": "execute_result",
          "data": {
            "text/plain": [
              "(array([1., 2., 3., 4., 5., 6., 7.]),\n",
              " dtype('float64'),\n",
              " tensor([1., 2., 3., 4., 5., 6., 7.], dtype=torch.float64))"
            ]
          },
          "metadata": {},
          "execution_count": 61
        }
      ]
    },
    {
      "cell_type": "code",
      "source": [
        "# Chhange the value of array\n",
        "array = array + 1\n",
        "array, tensor"
      ],
      "metadata": {
        "colab": {
          "base_uri": "https://localhost:8080/"
        },
        "id": "tmBITLqBQF9n",
        "outputId": "f2d1dcc6-f389-4e2a-c81f-8aa7ac268d73"
      },
      "execution_count": 62,
      "outputs": [
        {
          "output_type": "execute_result",
          "data": {
            "text/plain": [
              "(array([2., 3., 4., 5., 6., 7., 8.]),\n",
              " tensor([1., 2., 3., 4., 5., 6., 7.], dtype=torch.float64))"
            ]
          },
          "metadata": {},
          "execution_count": 62
        }
      ]
    },
    {
      "cell_type": "code",
      "source": [
        "# tensor to numpy\n",
        "tensor = torch.ones(7)\n",
        "numpy_tensor = tensor.numpy()\n",
        "tensor, numpy_tensor"
      ],
      "metadata": {
        "colab": {
          "base_uri": "https://localhost:8080/"
        },
        "id": "cdHtTKIVQgw6",
        "outputId": "8fbd42b0-4458-445e-85d9-b7e2218bc914"
      },
      "execution_count": 63,
      "outputs": [
        {
          "output_type": "execute_result",
          "data": {
            "text/plain": [
              "(tensor([1., 1., 1., 1., 1., 1., 1.]),\n",
              " array([1., 1., 1., 1., 1., 1., 1.], dtype=float32))"
            ]
          },
          "metadata": {},
          "execution_count": 63
        }
      ]
    },
    {
      "cell_type": "code",
      "source": [
        "numpy_tensor.dtype"
      ],
      "metadata": {
        "colab": {
          "base_uri": "https://localhost:8080/"
        },
        "id": "rzGpOt18Qy8_",
        "outputId": "76346287-49aa-4bb5-f2f5-8082389dded7"
      },
      "execution_count": 64,
      "outputs": [
        {
          "output_type": "execute_result",
          "data": {
            "text/plain": [
              "dtype('float32')"
            ]
          },
          "metadata": {},
          "execution_count": 64
        }
      ]
    },
    {
      "cell_type": "markdown",
      "source": [
        "## Reproducibility (trying to take random out of random)\n",
        "\n",
        "* Random Seed \"flavour\" the randomness"
      ],
      "metadata": {
        "id": "cT98c11gRJj5"
      }
    },
    {
      "cell_type": "code",
      "source": [
        "torch.rand(3, 3)"
      ],
      "metadata": {
        "colab": {
          "base_uri": "https://localhost:8080/"
        },
        "id": "nC1INDjkQ5UI",
        "outputId": "ff8b9ba5-df90-4164-d92a-372817a0cf77"
      },
      "execution_count": 65,
      "outputs": [
        {
          "output_type": "execute_result",
          "data": {
            "text/plain": [
              "tensor([[0.2347, 0.7761, 0.6421],\n",
              "        [0.0570, 0.0183, 0.9726],\n",
              "        [0.3631, 0.4767, 0.9040]])"
            ]
          },
          "metadata": {},
          "execution_count": 65
        }
      ]
    },
    {
      "cell_type": "code",
      "source": [
        "# Create two random tensors\n",
        "random_tensor_A = torch.rand(3, 4)\n",
        "random_tensor_B = torch.rand(3, 4)\n",
        "\n",
        "print(random_tensor_A)\n",
        "print(random_tensor_B)\n",
        "\n",
        "print(random_tensor_A == random_tensor_B)"
      ],
      "metadata": {
        "colab": {
          "base_uri": "https://localhost:8080/"
        },
        "id": "bR7YV-MvRd53",
        "outputId": "4a979f06-8bd4-4c1b-9f3e-993e62e6f956"
      },
      "execution_count": 66,
      "outputs": [
        {
          "output_type": "stream",
          "name": "stdout",
          "text": [
            "tensor([[0.7401, 0.2556, 0.7360, 0.3860],\n",
            "        [0.3269, 0.8328, 0.0702, 0.6174],\n",
            "        [0.6214, 0.1522, 0.0946, 0.0592]])\n",
            "tensor([[0.5625, 0.7594, 0.5640, 0.8923],\n",
            "        [0.6691, 0.0848, 0.4587, 0.1909],\n",
            "        [0.6051, 0.9391, 0.1808, 0.5192]])\n",
            "tensor([[False, False, False, False],\n",
            "        [False, False, False, False],\n",
            "        [False, False, False, False]])\n"
          ]
        }
      ]
    },
    {
      "cell_type": "code",
      "source": [
        "# Let's make some random but reproducible torch\n",
        "\n",
        "RANDOM_SEED = 42\n",
        "torch.manual_seed(RANDOM_SEED)\n",
        "random_tensor_C = torch.rand(3,4)\n",
        "\n",
        "torch.manual_seed(RANDOM_SEED)\n",
        "random_tensor_D = torch.rand(3,4)\n",
        "\n",
        "print(random_tensor_C)\n",
        "print(random_tensor_D)\n",
        "\n",
        "print(random_tensor_C == random_tensor_D)"
      ],
      "metadata": {
        "colab": {
          "base_uri": "https://localhost:8080/"
        },
        "id": "b2n7Ms5KR4Gh",
        "outputId": "c1937092-ae25-48d8-c5ca-426bd4d0ac11"
      },
      "execution_count": 67,
      "outputs": [
        {
          "output_type": "stream",
          "name": "stdout",
          "text": [
            "tensor([[0.8823, 0.9150, 0.3829, 0.9593],\n",
            "        [0.3904, 0.6009, 0.2566, 0.7936],\n",
            "        [0.9408, 0.1332, 0.9346, 0.5936]])\n",
            "tensor([[0.8823, 0.9150, 0.3829, 0.9593],\n",
            "        [0.3904, 0.6009, 0.2566, 0.7936],\n",
            "        [0.9408, 0.1332, 0.9346, 0.5936]])\n",
            "tensor([[True, True, True, True],\n",
            "        [True, True, True, True],\n",
            "        [True, True, True, True]])\n"
          ]
        }
      ]
    },
    {
      "cell_type": "markdown",
      "source": [
        "# GPUs with PyTorch"
      ],
      "metadata": {
        "id": "iYrBMKvVVkTw"
      }
    },
    {
      "cell_type": "code",
      "source": [
        "torch.cuda.is_available()"
      ],
      "metadata": {
        "colab": {
          "base_uri": "https://localhost:8080/"
        },
        "id": "dM3gbhM5Vhhp",
        "outputId": "4b4db326-e035-4a3c-db61-90e92676aec9"
      },
      "execution_count": 68,
      "outputs": [
        {
          "output_type": "execute_result",
          "data": {
            "text/plain": [
              "True"
            ]
          },
          "metadata": {},
          "execution_count": 68
        }
      ]
    },
    {
      "cell_type": "code",
      "source": [
        "device = 'cuda' if torch.cuda.is_available() else 'cpu'\n",
        "device"
      ],
      "metadata": {
        "colab": {
          "base_uri": "https://localhost:8080/",
          "height": 35
        },
        "id": "YAhr1PN2SvlS",
        "outputId": "a5e7dcb1-9bf3-41f0-8c29-400432b998dd"
      },
      "execution_count": 69,
      "outputs": [
        {
          "output_type": "execute_result",
          "data": {
            "text/plain": [
              "'cuda'"
            ],
            "application/vnd.google.colaboratory.intrinsic+json": {
              "type": "string"
            }
          },
          "metadata": {},
          "execution_count": 69
        }
      ]
    },
    {
      "cell_type": "code",
      "source": [
        "# Putting tensors on GPU\n",
        "tensor_gpu = torch.rand(size=(3,224,224),device='cuda')\n",
        "tensor_cpu = torch.rand(size=(3,224,224),device='cpu')\n",
        "tensor_on_gpu = tensor_cpu.to(device)"
      ],
      "metadata": {
        "id": "ihKo7P3yVuSp"
      },
      "execution_count": 70,
      "outputs": []
    },
    {
      "cell_type": "code",
      "source": [
        "%%time\n",
        "tensor_cpu @ tensor_cpu"
      ],
      "metadata": {
        "colab": {
          "base_uri": "https://localhost:8080/"
        },
        "id": "8Dtj-_A8WiqR",
        "outputId": "f0a7ac4e-d3a7-42d4-992b-b0189afddb08"
      },
      "execution_count": 71,
      "outputs": [
        {
          "output_type": "stream",
          "name": "stdout",
          "text": [
            "CPU times: user 2.56 ms, sys: 0 ns, total: 2.56 ms\n",
            "Wall time: 38 ms\n"
          ]
        },
        {
          "output_type": "execute_result",
          "data": {
            "text/plain": [
              "tensor([[[54.8778, 55.0759, 55.2968,  ..., 51.1964, 52.4830, 53.8628],\n",
              "         [51.9721, 50.4116, 51.3630,  ..., 49.6489, 51.1509, 53.1751],\n",
              "         [55.2838, 54.4790, 56.7034,  ..., 53.0624, 51.5850, 55.7340],\n",
              "         ...,\n",
              "         [58.7218, 56.9379, 58.3811,  ..., 57.8826, 55.4799, 59.2308],\n",
              "         [56.3871, 57.2169, 56.8084,  ..., 55.0726, 54.1172, 57.8058],\n",
              "         [59.7462, 59.7984, 56.5987,  ..., 56.2721, 55.9665, 59.0543]],\n",
              "\n",
              "        [[54.5311, 56.4304, 59.9071,  ..., 53.5982, 57.6117, 55.9676],\n",
              "         [55.4042, 56.7239, 56.6830,  ..., 53.5640, 55.7189, 54.2554],\n",
              "         [51.0038, 55.2407, 53.3031,  ..., 50.2986, 53.3732, 52.3051],\n",
              "         ...,\n",
              "         [55.9168, 56.1108, 56.9236,  ..., 52.6831, 59.0577, 55.3199],\n",
              "         [53.3372, 56.2344, 55.8313,  ..., 55.7225, 57.1343, 54.0795],\n",
              "         [59.2772, 57.6582, 58.7168,  ..., 56.0374, 54.7909, 56.6192]],\n",
              "\n",
              "        [[54.9106, 56.5026, 53.6712,  ..., 54.1862, 56.6423, 54.9641],\n",
              "         [57.2735, 58.8965, 55.4514,  ..., 56.6738, 60.2537, 55.8886],\n",
              "         [58.2117, 59.0114, 53.8803,  ..., 55.0994, 57.5020, 57.6161],\n",
              "         ...,\n",
              "         [57.6176, 57.5052, 52.8501,  ..., 52.2494, 55.9612, 55.5837],\n",
              "         [61.6353, 58.5567, 57.0773,  ..., 58.3716, 58.9822, 58.4042],\n",
              "         [58.6860, 61.1232, 56.2375,  ..., 59.0272, 60.6190, 60.1260]]])"
            ]
          },
          "metadata": {},
          "execution_count": 71
        }
      ]
    },
    {
      "cell_type": "code",
      "source": [
        "%%time\n",
        "tensor_gpu @ tensor_gpu"
      ],
      "metadata": {
        "colab": {
          "base_uri": "https://localhost:8080/"
        },
        "id": "KVloWkW8WoC6",
        "outputId": "0c47409d-fe1c-4c9a-f4b7-351f62bf75b0"
      },
      "execution_count": 72,
      "outputs": [
        {
          "output_type": "stream",
          "name": "stdout",
          "text": [
            "CPU times: user 30.1 ms, sys: 12.2 ms, total: 42.3 ms\n",
            "Wall time: 321 ms\n"
          ]
        },
        {
          "output_type": "execute_result",
          "data": {
            "text/plain": [
              "tensor([[[57.1475, 57.8763, 58.0708,  ..., 60.0455, 56.7473, 52.2902],\n",
              "         [54.8366, 56.9812, 55.2801,  ..., 53.9822, 54.4190, 53.3149],\n",
              "         [56.8810, 59.2344, 57.5870,  ..., 55.6562, 57.4580, 53.4199],\n",
              "         ...,\n",
              "         [58.0618, 58.6845, 57.6093,  ..., 54.1750, 56.0598, 54.8022],\n",
              "         [53.3715, 55.8414, 51.0072,  ..., 53.3889, 52.4247, 50.9015],\n",
              "         [57.4899, 58.2754, 54.8065,  ..., 56.1025, 58.1126, 55.9743]],\n",
              "\n",
              "        [[60.6437, 56.3270, 60.7596,  ..., 54.6207, 53.4178, 58.2888],\n",
              "         [57.0362, 53.1009, 56.7285,  ..., 54.4146, 53.0614, 57.4904],\n",
              "         [57.9393, 55.1182, 59.7795,  ..., 54.6179, 56.2600, 56.7521],\n",
              "         ...,\n",
              "         [53.5201, 52.4206, 54.7267,  ..., 50.2881, 52.6666, 51.3950],\n",
              "         [55.8588, 52.9026, 58.8273,  ..., 53.8535, 52.2152, 53.5968],\n",
              "         [54.5955, 51.0902, 57.1598,  ..., 49.3357, 52.4209, 52.8156]],\n",
              "\n",
              "        [[55.0490, 57.9209, 55.3701,  ..., 55.4746, 51.8033, 59.7366],\n",
              "         [54.2190, 59.4523, 55.2391,  ..., 55.7172, 54.2966, 61.7152],\n",
              "         [53.6822, 56.9567, 50.5846,  ..., 53.7434, 52.9840, 60.2517],\n",
              "         ...,\n",
              "         [51.1172, 54.4918, 52.3542,  ..., 52.4341, 51.1206, 57.0415],\n",
              "         [53.9729, 56.3326, 52.7816,  ..., 55.9748, 52.6688, 59.5528],\n",
              "         [53.8596, 55.5154, 54.5709,  ..., 55.4491, 51.5366, 59.5613]]],\n",
              "       device='cuda:0')"
            ]
          },
          "metadata": {},
          "execution_count": 72
        }
      ]
    },
    {
      "cell_type": "code",
      "source": [
        "%%time\n",
        "tensor_on_gpu @ tensor_on_gpu"
      ],
      "metadata": {
        "colab": {
          "base_uri": "https://localhost:8080/"
        },
        "id": "MWMuBChQWrdI",
        "outputId": "737972ae-c372-403a-acec-c2ddc3531faf"
      },
      "execution_count": 73,
      "outputs": [
        {
          "output_type": "stream",
          "name": "stdout",
          "text": [
            "CPU times: user 682 µs, sys: 0 ns, total: 682 µs\n",
            "Wall time: 554 µs\n"
          ]
        },
        {
          "output_type": "execute_result",
          "data": {
            "text/plain": [
              "tensor([[[54.8778, 55.0759, 55.2968,  ..., 51.1964, 52.4830, 53.8628],\n",
              "         [51.9721, 50.4116, 51.3630,  ..., 49.6489, 51.1509, 53.1751],\n",
              "         [55.2838, 54.4790, 56.7034,  ..., 53.0624, 51.5850, 55.7340],\n",
              "         ...,\n",
              "         [58.7218, 56.9379, 58.3811,  ..., 57.8826, 55.4799, 59.2308],\n",
              "         [56.3871, 57.2169, 56.8084,  ..., 55.0726, 54.1172, 57.8058],\n",
              "         [59.7462, 59.7984, 56.5987,  ..., 56.2721, 55.9665, 59.0543]],\n",
              "\n",
              "        [[54.5311, 56.4304, 59.9071,  ..., 53.5982, 57.6117, 55.9676],\n",
              "         [55.4042, 56.7239, 56.6830,  ..., 53.5640, 55.7189, 54.2554],\n",
              "         [51.0038, 55.2407, 53.3031,  ..., 50.2986, 53.3732, 52.3051],\n",
              "         ...,\n",
              "         [55.9168, 56.1108, 56.9236,  ..., 52.6831, 59.0577, 55.3199],\n",
              "         [53.3372, 56.2344, 55.8313,  ..., 55.7225, 57.1343, 54.0795],\n",
              "         [59.2772, 57.6582, 58.7168,  ..., 56.0374, 54.7909, 56.6192]],\n",
              "\n",
              "        [[54.9106, 56.5026, 53.6712,  ..., 54.1862, 56.6423, 54.9641],\n",
              "         [57.2735, 58.8965, 55.4514,  ..., 56.6738, 60.2537, 55.8886],\n",
              "         [58.2117, 59.0114, 53.8803,  ..., 55.0994, 57.5020, 57.6161],\n",
              "         ...,\n",
              "         [57.6176, 57.5052, 52.8501,  ..., 52.2494, 55.9612, 55.5837],\n",
              "         [61.6353, 58.5567, 57.0773,  ..., 58.3716, 58.9822, 58.4042],\n",
              "         [58.6860, 61.1232, 56.2375,  ..., 59.0272, 60.6190, 60.1260]]],\n",
              "       device='cuda:0')"
            ]
          },
          "metadata": {},
          "execution_count": 73
        }
      ]
    },
    {
      "cell_type": "markdown",
      "source": [
        "### Moving Tensors back to CPU\n",
        "\n",
        "* NumPy can't work on GPU"
      ],
      "metadata": {
        "id": "qRT_ZVPdXfQC"
      }
    },
    {
      "cell_type": "code",
      "source": [
        "# If tensor on GPU, we can't convert it to NumPy\n",
        "'''tensor_on_gpu_numpy = tensor_on_gpu.numpy()'''\n",
        "tensor_on_gpu_numpy = tensor_on_gpu.cpu().numpy()"
      ],
      "metadata": {
        "id": "YRxexWwdXONb"
      },
      "execution_count": 74,
      "outputs": []
    },
    {
      "cell_type": "code",
      "source": [
        "tensor_on_gpu_numpy"
      ],
      "metadata": {
        "colab": {
          "base_uri": "https://localhost:8080/"
        },
        "id": "9lSvjrg6X5ij",
        "outputId": "bcb9f671-9647-4fae-de32-07e8705720e3"
      },
      "execution_count": 75,
      "outputs": [
        {
          "output_type": "execute_result",
          "data": {
            "text/plain": [
              "array([[[0.86940444, 0.5677153 , 0.74109405, ..., 0.9207522 ,\n",
              "         0.76193494, 0.6265461 ],\n",
              "        [0.49510366, 0.11974698, 0.07161391, ..., 0.96128887,\n",
              "         0.571489  , 0.2049576 ],\n",
              "        [0.4716931 , 0.6200726 , 0.67509633, ..., 0.5697224 ,\n",
              "         0.20877302, 0.65390605],\n",
              "        ...,\n",
              "        [0.713264  , 0.87272394, 0.4657899 , ..., 0.5227268 ,\n",
              "         0.39137924, 0.9721274 ],\n",
              "        [0.8716877 , 0.8863701 , 0.47701   , ..., 0.23181844,\n",
              "         0.48649204, 0.06021976],\n",
              "        [0.71501535, 0.2971347 , 0.6149681 , ..., 0.12087494,\n",
              "         0.2951089 , 0.03446311]],\n",
              "\n",
              "       [[0.8077076 , 0.5240886 , 0.26980793, ..., 0.40756226,\n",
              "         0.8278676 , 0.46516466],\n",
              "        [0.7432455 , 0.7510398 , 0.02906656, ..., 0.1676594 ,\n",
              "         0.49224424, 0.763479  ],\n",
              "        [0.49939716, 0.02961665, 0.42888206, ..., 0.6202837 ,\n",
              "         0.9258447 , 0.6213132 ],\n",
              "        ...,\n",
              "        [0.5947914 , 0.7264393 , 0.9969034 , ..., 0.4678409 ,\n",
              "         0.9012096 , 0.42135513],\n",
              "        [0.15019524, 0.18973386, 0.8450365 , ..., 0.24760419,\n",
              "         0.8821963 , 0.04168296],\n",
              "        [0.4815395 , 0.63144666, 0.10215032, ..., 0.4162284 ,\n",
              "         0.47930956, 0.974008  ]],\n",
              "\n",
              "       [[0.7056057 , 0.07406384, 0.23540902, ..., 0.14207053,\n",
              "         0.04699582, 0.73017454],\n",
              "        [0.23947787, 0.38080138, 0.07295746, ..., 0.48297632,\n",
              "         0.87927234, 0.66242695],\n",
              "        [0.3444957 , 0.14265418, 0.30121797, ..., 0.6876594 ,\n",
              "         0.04897422, 0.6594428 ],\n",
              "        ...,\n",
              "        [0.9618469 , 0.79252535, 0.2952215 , ..., 0.91757214,\n",
              "         0.80178374, 0.19813502],\n",
              "        [0.22239953, 0.11766559, 0.6748715 , ..., 0.58850896,\n",
              "         0.9256422 , 0.81022716],\n",
              "        [0.49351233, 0.8761217 , 0.11580265, ..., 0.11667037,\n",
              "         0.11329365, 0.8599877 ]]], dtype=float32)"
            ]
          },
          "metadata": {},
          "execution_count": 75
        }
      ]
    },
    {
      "cell_type": "code",
      "source": [
        "%%time\n",
        "tensor_on_gpu_numpy @ tensor_on_gpu_numpy"
      ],
      "metadata": {
        "colab": {
          "base_uri": "https://localhost:8080/"
        },
        "id": "WSGfxi--YDx9",
        "outputId": "7f584737-fe05-48a6-8dde-1c886174483e"
      },
      "execution_count": 76,
      "outputs": [
        {
          "output_type": "stream",
          "name": "stdout",
          "text": [
            "CPU times: user 1.25 ms, sys: 2.05 ms, total: 3.3 ms\n",
            "Wall time: 7.29 ms\n"
          ]
        },
        {
          "output_type": "execute_result",
          "data": {
            "text/plain": [
              "array([[[54.877804, 55.075924, 55.296833, ..., 51.19641 , 52.482983,\n",
              "         53.862846],\n",
              "        [51.972065, 50.41162 , 51.36305 , ..., 49.64887 , 51.15091 ,\n",
              "         53.175106],\n",
              "        [55.283775, 54.479046, 56.703358, ..., 53.06242 , 51.58498 ,\n",
              "         55.73401 ],\n",
              "        ...,\n",
              "        [58.721783, 56.93793 , 58.38115 , ..., 57.88262 , 55.479946,\n",
              "         59.23079 ],\n",
              "        [56.38709 , 57.2169  , 56.8084  , ..., 55.072582, 54.117188,\n",
              "         57.805794],\n",
              "        [59.74617 , 59.798367, 56.598698, ..., 56.272125, 55.96654 ,\n",
              "         59.054287]],\n",
              "\n",
              "       [[54.53108 , 56.430424, 59.90714 , ..., 53.598236, 57.611713,\n",
              "         55.96758 ],\n",
              "        [55.404163, 56.72388 , 56.68296 , ..., 53.564045, 55.718903,\n",
              "         54.255405],\n",
              "        [51.003815, 55.24072 , 53.30312 , ..., 50.29862 , 53.373215,\n",
              "         52.30509 ],\n",
              "        ...,\n",
              "        [55.916786, 56.110786, 56.92362 , ..., 52.68314 , 59.057747,\n",
              "         55.319878],\n",
              "        [53.33718 , 56.234432, 55.831318, ..., 55.72246 , 57.134285,\n",
              "         54.07949 ],\n",
              "        [59.277245, 57.658207, 58.716835, ..., 56.03745 , 54.790943,\n",
              "         56.619152]],\n",
              "\n",
              "       [[54.910553, 56.502636, 53.67124 , ..., 54.186165, 56.642315,\n",
              "         54.964134],\n",
              "        [57.273537, 58.896458, 55.45137 , ..., 56.673786, 60.25367 ,\n",
              "         55.888615],\n",
              "        [58.211678, 59.011448, 53.88033 , ..., 55.099396, 57.501953,\n",
              "         57.61606 ],\n",
              "        ...,\n",
              "        [57.617554, 57.505165, 52.850124, ..., 52.24935 , 55.961235,\n",
              "         55.583675],\n",
              "        [61.63531 , 58.55673 , 57.077255, ..., 58.37163 , 58.982246,\n",
              "         58.4042  ],\n",
              "        [58.685955, 61.12316 , 56.237537, ..., 59.02718 , 60.61898 ,\n",
              "         60.125957]]], dtype=float32)"
            ]
          },
          "metadata": {},
          "execution_count": 76
        }
      ]
    },
    {
      "cell_type": "code",
      "source": [
        "tensor_on_gpu.device"
      ],
      "metadata": {
        "colab": {
          "base_uri": "https://localhost:8080/"
        },
        "id": "VTXbr1axYJ1_",
        "outputId": "877a2183-2b06-4278-e821-763631d68d3b"
      },
      "execution_count": 77,
      "outputs": [
        {
          "output_type": "execute_result",
          "data": {
            "text/plain": [
              "device(type='cuda', index=0)"
            ]
          },
          "metadata": {},
          "execution_count": 77
        }
      ]
    },
    {
      "cell_type": "markdown",
      "source": [
        "# Exercise"
      ],
      "metadata": {
        "id": "s5pIjkziY0fH"
      }
    },
    {
      "cell_type": "code",
      "source": [
        "#2\n",
        "random_tensor = torch.rand(7, 7)\n",
        "random_tensor, random_tensor.device"
      ],
      "metadata": {
        "colab": {
          "base_uri": "https://localhost:8080/"
        },
        "id": "t0H6CRw5YMwm",
        "outputId": "84bf0b47-2b1c-4e54-b52c-2ff57bcc839b"
      },
      "execution_count": 78,
      "outputs": [
        {
          "output_type": "execute_result",
          "data": {
            "text/plain": [
              "(tensor([[0.2933, 0.5889, 0.4117, 0.0992, 0.3078, 0.7786, 0.8016],\n",
              "         [0.3649, 0.6286, 0.9663, 0.7687, 0.4566, 0.5745, 0.9200],\n",
              "         [0.3230, 0.8613, 0.0919, 0.3102, 0.9536, 0.6002, 0.0351],\n",
              "         [0.6826, 0.3743, 0.5220, 0.1336, 0.9666, 0.9754, 0.8474],\n",
              "         [0.8988, 0.1105, 0.4563, 0.9719, 0.3968, 0.1496, 0.4743],\n",
              "         [0.9973, 0.4436, 0.9726, 0.5194, 0.5337, 0.7050, 0.3362],\n",
              "         [0.7891, 0.1694, 0.1800, 0.7177, 0.6988, 0.5510, 0.2485]]),\n",
              " device(type='cpu'))"
            ]
          },
          "metadata": {},
          "execution_count": 78
        }
      ]
    },
    {
      "cell_type": "code",
      "source": [
        "#3\n",
        "random_tensor_2 = torch.rand(1, 7)\n",
        "print(torch.matmul(random_tensor, random_tensor_2.T))"
      ],
      "metadata": {
        "colab": {
          "base_uri": "https://localhost:8080/"
        },
        "id": "sJUjC7bVZLmL",
        "outputId": "1e36b992-86ec-40aa-a477-d2140f5534a5"
      },
      "execution_count": 79,
      "outputs": [
        {
          "output_type": "stream",
          "name": "stdout",
          "text": [
            "tensor([[1.5674],\n",
            "        [1.8411],\n",
            "        [1.5923],\n",
            "        [2.5003],\n",
            "        [1.6537],\n",
            "        [2.2471],\n",
            "        [1.9230]])\n"
          ]
        }
      ]
    },
    {
      "cell_type": "code",
      "source": [
        "#4\n",
        "RANDOM_SEED_EXC = 0\n",
        "torch.manual_seed(RANDOM_SEED_EXC)\n",
        "random_tensor_3 = torch.rand(7, 7)\n",
        "\n",
        "torch.manual_seed(RANDOM_SEED_EXC)\n",
        "random_tensor_4 = torch.rand(1, 7)\n",
        "\n",
        "print(random_tensor_3, '\\n')\n",
        "print(random_tensor_4, '\\n')\n",
        "print(torch.matmul(random_tensor_3, random_tensor_4.T))"
      ],
      "metadata": {
        "colab": {
          "base_uri": "https://localhost:8080/"
        },
        "id": "k7HmFiZVZeZx",
        "outputId": "bcfc47c2-084c-4a1a-e023-0e3595c84f33"
      },
      "execution_count": 80,
      "outputs": [
        {
          "output_type": "stream",
          "name": "stdout",
          "text": [
            "tensor([[0.4963, 0.7682, 0.0885, 0.1320, 0.3074, 0.6341, 0.4901],\n",
            "        [0.8964, 0.4556, 0.6323, 0.3489, 0.4017, 0.0223, 0.1689],\n",
            "        [0.2939, 0.5185, 0.6977, 0.8000, 0.1610, 0.2823, 0.6816],\n",
            "        [0.9152, 0.3971, 0.8742, 0.4194, 0.5529, 0.9527, 0.0362],\n",
            "        [0.1852, 0.3734, 0.3051, 0.9320, 0.1759, 0.2698, 0.1507],\n",
            "        [0.0317, 0.2081, 0.9298, 0.7231, 0.7423, 0.5263, 0.2437],\n",
            "        [0.5846, 0.0332, 0.1387, 0.2422, 0.8155, 0.7932, 0.2783]]) \n",
            "\n",
            "tensor([[0.4963, 0.7682, 0.0885, 0.1320, 0.3074, 0.6341, 0.4901]]) \n",
            "\n",
            "tensor([[1.5985],\n",
            "        [1.1173],\n",
            "        [1.2741],\n",
            "        [1.6838],\n",
            "        [0.8279],\n",
            "        [1.0347],\n",
            "        [1.2498]])\n"
          ]
        }
      ]
    },
    {
      "cell_type": "code",
      "source": [
        "#5\n",
        "RANDOM_SEED = 1234\n",
        "torch.manual_seed(RANDOM_SEED)\n",
        "random_tensor_5 = torch.rand(size=(7,7)).to(device)\n",
        "torch.manual_seed(RANDOM_SEED)\n",
        "random_tensor_6 = torch.rand(size=(1,7)).to(device)\n",
        "print(random_tensor_5, '\\n')\n",
        "print(random_tensor_6, '\\n')\n",
        "print(torch.matmul(random_tensor_5, random_tensor_6.T))"
      ],
      "metadata": {
        "colab": {
          "base_uri": "https://localhost:8080/"
        },
        "id": "WxECXFHgZ4ku",
        "outputId": "ede6a2ea-6ffe-4ea3-9029-9427698bcc6d"
      },
      "execution_count": 81,
      "outputs": [
        {
          "output_type": "stream",
          "name": "stdout",
          "text": [
            "tensor([[0.0290, 0.4019, 0.2598, 0.3666, 0.0583, 0.7006, 0.0518],\n",
            "        [0.4681, 0.6738, 0.3315, 0.7837, 0.5631, 0.7749, 0.8208],\n",
            "        [0.2793, 0.6817, 0.2837, 0.6567, 0.2388, 0.7313, 0.6012],\n",
            "        [0.3043, 0.2548, 0.6294, 0.9665, 0.7399, 0.4517, 0.4757],\n",
            "        [0.7842, 0.1525, 0.6662, 0.3343, 0.7893, 0.3216, 0.5247],\n",
            "        [0.6688, 0.8436, 0.4265, 0.9561, 0.0770, 0.4108, 0.0014],\n",
            "        [0.5414, 0.6419, 0.2976, 0.7077, 0.4189, 0.0655, 0.8839]],\n",
            "       device='cuda:0') \n",
            "\n",
            "tensor([[0.0290, 0.4019, 0.2598, 0.3666, 0.0583, 0.7006, 0.0518]],\n",
            "       device='cuda:0') \n",
            "\n",
            "tensor([[0.8613],\n",
            "        [1.2761],\n",
            "        [1.1540],\n",
            "        [1.0134],\n",
            "        [0.6783],\n",
            "        [1.1122],\n",
            "        [0.7266]], device='cuda:0')\n"
          ]
        }
      ]
    },
    {
      "cell_type": "code",
      "source": [
        "#6\n",
        "random_tensor_7 = torch.rand(2,3)\n",
        "random_tensor_8 = torch.rand(2,3)\n",
        "\n",
        "print(random_tensor_7.device, random_tensor_8.device)\n",
        "\n",
        "random_tensor_7 = random_tensor_7.to(device)\n",
        "random_tensor_8 = random_tensor_8.to(device)\n",
        "\n",
        "print(random_tensor_7.device, random_tensor_8.device)\n",
        "\n",
        "torch.manual_seed(1234)"
      ],
      "metadata": {
        "colab": {
          "base_uri": "https://localhost:8080/"
        },
        "id": "pHtnfeuaahcB",
        "outputId": "747a79d1-b1c8-4be4-b954-72730dc6e6f1"
      },
      "execution_count": 82,
      "outputs": [
        {
          "output_type": "stream",
          "name": "stdout",
          "text": [
            "cpu cpu\n",
            "cuda:0 cuda:0\n"
          ]
        },
        {
          "output_type": "execute_result",
          "data": {
            "text/plain": [
              "<torch._C.Generator at 0x7a0ccdeb62d0>"
            ]
          },
          "metadata": {},
          "execution_count": 82
        }
      ]
    },
    {
      "cell_type": "code",
      "source": [
        "#7\n",
        "print(random_tensor_7,'\\n', random_tensor_8)\n",
        "output = random_tensor_7 @ random_tensor_8.T\n",
        "print(output)"
      ],
      "metadata": {
        "colab": {
          "base_uri": "https://localhost:8080/"
        },
        "id": "pWOju_E_bwy8",
        "outputId": "bc67a6ba-050e-4e66-cd7e-8b9b7e68d6ff"
      },
      "execution_count": 83,
      "outputs": [
        {
          "output_type": "stream",
          "name": "stdout",
          "text": [
            "tensor([[0.4681, 0.6738, 0.3315],\n",
            "        [0.7837, 0.5631, 0.7749]], device='cuda:0') \n",
            " tensor([[0.8208, 0.2793, 0.6817],\n",
            "        [0.2837, 0.6567, 0.2388]], device='cuda:0')\n",
            "tensor([[0.7984, 0.6544],\n",
            "        [1.3287, 0.7771]], device='cuda:0')\n"
          ]
        }
      ]
    },
    {
      "cell_type": "code",
      "source": [
        "#8\n",
        "print(torch.max(output), torch.min(output))"
      ],
      "metadata": {
        "colab": {
          "base_uri": "https://localhost:8080/"
        },
        "id": "9RcK_QoccITM",
        "outputId": "93dd64bc-28d5-484e-e0c3-ddd6338f02d2"
      },
      "execution_count": 84,
      "outputs": [
        {
          "output_type": "stream",
          "name": "stdout",
          "text": [
            "tensor(1.3287, device='cuda:0') tensor(0.6544, device='cuda:0')\n"
          ]
        }
      ]
    },
    {
      "cell_type": "code",
      "source": [
        "#9\n",
        "print(torch.argmax(output), torch.argmin(output))"
      ],
      "metadata": {
        "colab": {
          "base_uri": "https://localhost:8080/"
        },
        "id": "dFSRibv-c3PM",
        "outputId": "26a9b071-dca3-4470-e0e5-50a6a155ff2b"
      },
      "execution_count": 85,
      "outputs": [
        {
          "output_type": "stream",
          "name": "stdout",
          "text": [
            "tensor(2, device='cuda:0') tensor(1, device='cuda:0')\n"
          ]
        }
      ]
    },
    {
      "cell_type": "code",
      "source": [
        "#10\n",
        "SEED = 7\n",
        "torch.manual_seed(SEED)\n",
        "random_tensor_9 = torch.rand(size=(1,1,1,10))\n",
        "print(random_tensor_9, random_tensor_9.shape)\n",
        "torch.manual_seed(SEED)\n",
        "random_tensor_9_squeezed = random_tensor_9.squeeze()\n",
        "print(random_tensor_9_squeezed, random_tensor_9_squeezed.shape)"
      ],
      "metadata": {
        "colab": {
          "base_uri": "https://localhost:8080/"
        },
        "id": "cvEV2Oevc8JC",
        "outputId": "b3c2bf29-c1e7-4eb0-9bee-977a5964b27a"
      },
      "execution_count": 86,
      "outputs": [
        {
          "output_type": "stream",
          "name": "stdout",
          "text": [
            "tensor([[[[0.5349, 0.1988, 0.6592, 0.6569, 0.2328, 0.4251, 0.2071, 0.6297,\n",
            "           0.3653, 0.8513]]]]) torch.Size([1, 1, 1, 10])\n",
            "tensor([0.5349, 0.1988, 0.6592, 0.6569, 0.2328, 0.4251, 0.2071, 0.6297, 0.3653,\n",
            "        0.8513]) torch.Size([10])\n"
          ]
        }
      ]
    },
    {
      "cell_type": "code",
      "source": [],
      "metadata": {
        "id": "vgcH572Idl5z"
      },
      "execution_count": 86,
      "outputs": []
    }
  ]
}